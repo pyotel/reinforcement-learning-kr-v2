{
 "cells": [
  {
   "cell_type": "code",
   "execution_count": 2,
   "metadata": {},
   "outputs": [],
   "source": [
    "import tensorflow as tf\n",
    "\n",
    "mnist = tf.keras.datasets.fashion_mnist"
   ]
  },
  {
   "cell_type": "code",
   "execution_count": 8,
   "metadata": {},
   "outputs": [],
   "source": [
    "(x_train, y_train), (x_test, y_test) = mnist.load_data()"
   ]
  },
  {
   "cell_type": "code",
   "execution_count": 11,
   "metadata": {},
   "outputs": [],
   "source": [
    "x_train, x_test = x_train / 255.0, x_test / 255.0"
   ]
  },
  {
   "cell_type": "code",
   "execution_count": 13,
   "metadata": {},
   "outputs": [],
   "source": [
    "from tensorflow.keras.layers import Dense"
   ]
  },
  {
   "cell_type": "code",
   "execution_count": 22,
   "metadata": {},
   "outputs": [],
   "source": [
    "class Model(tf.keras.Model) :\n",
    "    def __init__(self) :\n",
    "        super(Model, self).__init__()\n",
    "        self.input_layer = Dense(256, activation='relu', input_shape=(784,))\n",
    "        self.hidden_layer = Dense(128, activation='relu')\n",
    "        self.output_layer = Dense(10, activation='softmax')\n",
    "    def call(self, x):\n",
    "        x = self.input_layer(x)\n",
    "        x = self.hidden_layer(x)\n",
    "        output = self.output_layer(x)\n",
    "        return output"
   ]
  },
  {
   "cell_type": "code",
   "execution_count": 23,
   "metadata": {},
   "outputs": [],
   "source": [
    "from tensorflow.keras.optimizers import Adam\n",
    "\n",
    "model = Model()\n",
    "cross_entropy = tf.keras.losses.CategoricalCrossentropy(from_logits=False)\n",
    "optimizer = Adam(1e-4)"
   ]
  },
  {
   "cell_type": "code",
   "execution_count": 24,
   "metadata": {},
   "outputs": [
    {
     "name": "stdout",
     "output_type": "stream",
     "text": [
      "WARNING:tensorflow:Layer model_1 is casting an input tensor from dtype float64 to the layer's dtype of float32, which is new behavior in TensorFlow 2.  The layer has dtype float32 because it's dtype defaults to floatx.\n",
      "\n",
      "If you intended to run this layer in float32, you can safely ignore this warning. If in doubt, this warning is likely only an issue if you are porting a TensorFlow 1.X model to TensorFlow 2.\n",
      "\n",
      "To change all layers to have dtype float64 by default, call `tf.keras.backend.set_floatx('float64')`. To change just this layer, pass dtype='float64' to the layer constructor. If you are the author of this layer, you can disable autocasting by passing autocast=False to the base Layer constructor.\n",
      "\n"
     ]
    }
   ],
   "source": [
    "batch_size = 32\n",
    "num_train_data = x_train.shape[0]\n",
    "num_test_data = x_test.shape[0]\n",
    "\n",
    "num_epoch = 10\n",
    "for e in range(num_epoch) :\n",
    "    for i in range(num_train_data // batch_size) :\n",
    "        x_batch = x_train[i * batch_size : (i + 1) * batch_size]\n",
    "        y_batch = y_train[i * batch_size : (i + 1) * batch_size]\n",
    "        x_batch = x_batch.reshape(-1, 28*28)\n",
    "        y_batch = tf.one_hot(y_batch, 10)\n",
    "        \n",
    "        model_params = model.trainable_variables\n",
    "        with tf.GradientTape() as tape :\n",
    "            predicts = model(x_batch)\n",
    "            losses = cross_entropy(predicts, y_batch)\n",
    "        grads = tape.gradient(losses, model_params)\n",
    "        optimizer.apply_gradients(zip(grads, model_params))    "
   ]
  }
 ],
 "metadata": {
  "kernelspec": {
   "display_name": "Python 3",
   "language": "python",
   "name": "python3"
  },
  "language_info": {
   "codemirror_mode": {
    "name": "ipython",
    "version": 3
   },
   "file_extension": ".py",
   "mimetype": "text/x-python",
   "name": "python",
   "nbconvert_exporter": "python",
   "pygments_lexer": "ipython3",
   "version": "3.7.2"
  }
 },
 "nbformat": 4,
 "nbformat_minor": 2
}
